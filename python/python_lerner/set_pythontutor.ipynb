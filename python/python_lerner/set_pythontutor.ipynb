{
 "cells": [
  {
   "cell_type": "code",
   "execution_count": 6,
   "metadata": {},
   "outputs": [
    {
     "name": "stdout",
     "output_type": "stream",
     "text": [
      "10\n"
     ]
    }
   ],
   "source": [
    "# 1\n",
    "print(len(set(input().split())))\n"
   ]
  },
  {
   "cell_type": "code",
   "execution_count": 16,
   "metadata": {},
   "outputs": [
    {
     "name": "stdout",
     "output_type": "stream",
     "text": [
      "2\n"
     ]
    }
   ],
   "source": [
    "# 2\n",
    "# a=set(input().split())\n",
    "# b=set(input().split())\n",
    "# a&=b\n",
    "print(len((set(input().split())) & set(input().split())))\n"
   ]
  },
  {
   "cell_type": "code",
   "execution_count": 39,
   "metadata": {},
   "outputs": [
    {
     "name": "stdout",
     "output_type": "stream",
     "text": [
      "2 5 6 7 10 11 14 17 18 19 21 22 23 24 25 27 28 30 35 36 39 43 48 51 52 54 55 57 61 66 67 68 69 70 71 72 73 75 77 78 82 83 84 86 95\n"
     ]
    }
   ],
   "source": [
    "# 3\n",
    "print(' '.join(sorted(set(input().split()) & set(input().split()), key=int)))\n"
   ]
  },
  {
   "cell_type": "code",
   "execution_count": 50,
   "metadata": {},
   "outputs": [
    {
     "name": "stdout",
     "output_type": "stream",
     "text": [
      "NO\n",
      "YES\n",
      "YES\n",
      "YES\n",
      "YES\n",
      "YES\n",
      "YES\n",
      "YES\n",
      "YES\n",
      "YES\n"
     ]
    }
   ],
   "source": [
    "# 4\n",
    "def func():\n",
    "    a = set()\n",
    "    b = list(input().split())\n",
    "    for i in b:\n",
    "        print(\"YES\" if (i in a) else \"NO\")\n",
    "        a.add(i)\n",
    "\n",
    "func()"
   ]
  },
  {
   "cell_type": "code",
   "execution_count": 3,
   "metadata": {},
   "outputs": [
    {
     "name": "stdout",
     "output_type": "stream",
     "text": [
      "2\n",
      "[0, 1]\n",
      "2\n",
      "9 10\n",
      "1\n",
      "3\n"
     ]
    }
   ],
   "source": [
    "# 5\n",
    "\n",
    "def func(a: set, b: set):\n",
    "    print(len(a & b))\n",
    "    print(*[str(elem) for elem in sorted(a & b)])\n",
    "    print(len(a-b))\n",
    "    print(*[str(elem) for elem in sorted(a-b)])\n",
    "    print(len(b-a))\n",
    "    print(*[str(elem) for elem in sorted(b-a)])\n",
    "\n",
    "\n",
    "N, M = map(int, input().split())\n",
    "a = set()\n",
    "b = set()\n",
    "for i in range(N):\n",
    "    a.add(int(input()))\n",
    "for i in range(M):\n",
    "    b.add(int(input()))\n",
    "func(a, b)\n"
   ]
  },
  {
   "cell_type": "code",
   "execution_count": null,
   "metadata": {},
   "outputs": [],
   "source": [
    "# 6\n",
    "\n",
    "kol = int(input())\n",
    "a = set()\n",
    "for i in range(kol):\n",
    "    a.update(input().split())\n",
    "print(len(a))\n"
   ]
  },
  {
   "cell_type": "code",
   "execution_count": 7,
   "metadata": {},
   "outputs": [
    {
     "name": "stdout",
     "output_type": "stream",
     "text": [
      "1 3 5\n"
     ]
    }
   ],
   "source": [
    "# 7\n",
    "def f():\n",
    "    n = int(input())\n",
    "    s = set(range(1, n+1))\n",
    "    s1 = s\n",
    "    i = \"\"\n",
    "    while (i != \"HELP\" and True):\n",
    "        i = input()\n",
    "        if (i == \"HELP\"):\n",
    "            continue\n",
    "        i = {int(y) for y in i.split()}\n",
    "        YN = input()\n",
    "        if (YN == \"YES\"):\n",
    "            s1 = s1 & i\n",
    "        else:\n",
    "            s1 = s1 & s-i\n",
    "    print(*[str(elem) for elem in sorted(s1)])\n",
    "\n",
    "\n",
    "f()\n"
   ]
  },
  {
   "cell_type": "code",
   "execution_count": 8,
   "metadata": {},
   "outputs": [
    {
     "name": "stdout",
     "output_type": "stream",
     "text": [
      "NO\n",
      "YES\n",
      "6 8 10\n"
     ]
    }
   ],
   "source": [
    "# 8\n",
    "def f():\n",
    "    n = int(input())\n",
    "    s = set(range(1, n+1))\n",
    "    s1 = s\n",
    "    i = \"\"\n",
    "    while (i != \"HELP\" and True):\n",
    "        i = input()\n",
    "        if (i == \"HELP\"):\n",
    "            continue\n",
    "        i = {int(y) for y in i.split()}\n",
    "        if (len(s1 & i) > len(s1)/2):\n",
    "            print(\"YES\")\n",
    "            s1 = s1 & i\n",
    "        else:\n",
    "            print(\"NO\")\n",
    "            s1 = s1 & s-i\n",
    "    print(*[str(elem) for elem in sorted(s1)])\n",
    "\n",
    "\n",
    "f()\n"
   ]
  },
  {
   "cell_type": "code",
   "execution_count": 15,
   "metadata": {},
   "outputs": [
    {
     "name": "stdout",
     "output_type": "stream",
     "text": [
      "1\n",
      "eng\n",
      "3\n",
      "eng\n",
      "japan\n",
      "rus\n"
     ]
    }
   ],
   "source": [
    "# 9\n",
    "def f(st: set):\n",
    "    a = set.intersection(*st)\n",
    "    b = set.union(*st)\n",
    "    print(len(a), *sorted(a), sep=\"\\n\")\n",
    "    print(len(b), *sorted(b), sep=\"\\n\")\n",
    "\n",
    "\n",
    "st = [{input() for j in range(int(input()))}for i in range(int(input()))]\n",
    "f(st)\n"
   ]
  },
  {
   "cell_type": "code",
   "execution_count": 16,
   "metadata": {},
   "outputs": [
    {
     "name": "stdout",
     "output_type": "stream",
     "text": [
      "8\n"
     ]
    }
   ],
   "source": [
    "# 10\n",
    "def f():\n",
    "    n, k = map(int, input().split())\n",
    "    s = set()\n",
    "    for i in range(k):\n",
    "        a, b = map(int, input().split())\n",
    "        s |= (set([j for j in range(a, n + 1, b)]))\n",
    "    z = set([i for i in range(6, n + 1, 7)]\n",
    "            ) | set([i for i in range(7, n + 1, 7)])\n",
    "    print(len(s - z))\n",
    "\n",
    "\n",
    "f()\n"
   ]
  }
 ],
 "metadata": {
  "kernelspec": {
   "display_name": "Python 3.10.7 64-bit",
   "language": "python",
   "name": "python3"
  },
  "language_info": {
   "codemirror_mode": {
    "name": "ipython",
    "version": 3
   },
   "file_extension": ".py",
   "mimetype": "text/x-python",
   "name": "python",
   "nbconvert_exporter": "python",
   "pygments_lexer": "ipython3",
   "version": "3.10.7"
  },
  "orig_nbformat": 4,
  "vscode": {
   "interpreter": {
    "hash": "87fa829485d475267f3e6278171c7267e46e15927450fa4eed8e02cd2004c4dd"
   }
  }
 },
 "nbformat": 4,
 "nbformat_minor": 2
}

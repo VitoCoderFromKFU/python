{
 "cells": [
  {
   "cell_type": "code",
   "execution_count": 9,
   "metadata": {},
   "outputs": [
    {
     "name": "stdout",
     "output_type": "stream",
     "text": [
      "[7, 6, 0, 5, 4, 3, 2, 1]\n"
     ]
    }
   ],
   "source": [
    "# 12\n",
    "def func(l: list, k: int, c: int):\n",
    "    l.append(0)\n",
    "    for i in range(len(l)-1, k, -1):\n",
    "        l[i] = l[i-1]\n",
    "    l[k] = c\n",
    "    return l\n",
    "\n",
    "\n",
    "l = [int(i) for i in input().split()]\n",
    "k, c = [int(i) for i in input().split()]\n",
    "print(func(l, k, c))\n"
   ]
  },
  {
   "cell_type": "code",
   "execution_count": 17,
   "metadata": {},
   "outputs": [
    {
     "name": "stdout",
     "output_type": "stream",
     "text": [
      "0\n"
     ]
    }
   ],
   "source": [
    "# 13\n",
    "def func(l: list):\n",
    "    count = 0\n",
    "    for i in range(len(l)):\n",
    "        for j in range(i+1, len(l)):\n",
    "            if (l[i] == l[j]):\n",
    "                count += 1\n",
    "    return count\n",
    "\n",
    "\n",
    "l = [int(i) for i in input().split()]\n",
    "print(func(l))\n"
   ]
  },
  {
   "cell_type": "code",
   "execution_count": 30,
   "metadata": {},
   "outputs": [
    {
     "name": "stdout",
     "output_type": "stream",
     "text": [
      "[5, 2, 29, 4, 28, 8]\n"
     ]
    }
   ],
   "source": [
    "# 14\n",
    "def func(l: list):\n",
    "    s = []\n",
    "    for i in range(len(l)):\n",
    "        pred = True\n",
    "        for j in range(len(l)):\n",
    "            if (l[i] == l[j] and i != j):\n",
    "                pred = False\n",
    "        if (pred):\n",
    "            s.append(l[i])\n",
    "    return s\n",
    "\n",
    "\n",
    "l = [int(i) for i in input().split()]\n",
    "print(func(l))\n"
   ]
  },
  {
   "cell_type": "code",
   "execution_count": 63,
   "metadata": {},
   "outputs": [
    {
     "name": "stdout",
     "output_type": "stream",
     "text": [
      "[8, 2, 3]\n",
      "[10, 5, 6]\n",
      "I.....I...\n"
     ]
    }
   ],
   "source": [
    "# 15\n",
    "def func(N: int, K: int, l: list, r: list):\n",
    "    res = ['I']*N\n",
    "    for i in range(K):\n",
    "        for j in range(l[i]-1, r[i]):\n",
    "            res[j] = '.'\n",
    "    return res\n",
    "\n",
    "\n",
    "N = int(input())  # количество кеглей\n",
    "K = int(input())  # количество бросков\n",
    "l = []\n",
    "r = []\n",
    "for i in range(K):\n",
    "    l.append(int(input()))\n",
    "    r.append(int(input()))\n",
    "\n",
    "print(l)\n",
    "print(r)\n",
    "print(''.join(func(N, K, l, r)))\n"
   ]
  },
  {
   "cell_type": "code",
   "execution_count": 76,
   "metadata": {},
   "outputs": [
    {
     "name": "stdout",
     "output_type": "stream",
     "text": [
      "YES\n"
     ]
    }
   ],
   "source": [
    "# 16\n",
    "\n",
    "def func(x: list, y: list, n: int):\n",
    "    pred = True\n",
    "    for i in range(n):\n",
    "        for j in range(i+1, n):\n",
    "            if (x[i] == y[i] or y[i] == y[j] or abs(x[i]-x[j]) == abs(y[i]-y[j])):\n",
    "                pred = False\n",
    "    return pred\n",
    "\n",
    "\n",
    "n = 8\n",
    "x = [0]*n\n",
    "y = [0]*n\n",
    "for i in range(8):\n",
    "    X, Y = [int(i) for i in input().split()]\n",
    "    x[i] = X\n",
    "    y[i] = Y\n",
    "\n",
    "if (func(x, y, n)):\n",
    "    print(\"NO\")\n",
    "else:\n",
    "    print(\"YES\")\n"
   ]
  }
 ],
 "metadata": {
  "kernelspec": {
   "display_name": "Python 3.10.7 64-bit",
   "language": "python",
   "name": "python3"
  },
  "language_info": {
   "codemirror_mode": {
    "name": "ipython",
    "version": 3
   },
   "file_extension": ".py",
   "mimetype": "text/x-python",
   "name": "python",
   "nbconvert_exporter": "python",
   "pygments_lexer": "ipython3",
   "version": "3.10.7"
  },
  "orig_nbformat": 4,
  "vscode": {
   "interpreter": {
    "hash": "87fa829485d475267f3e6278171c7267e46e15927450fa4eed8e02cd2004c4dd"
   }
  }
 },
 "nbformat": 4,
 "nbformat_minor": 2
}

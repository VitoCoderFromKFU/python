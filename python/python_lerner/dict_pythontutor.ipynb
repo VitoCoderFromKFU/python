{
 "cells": [
  {
   "cell_type": "code",
   "execution_count": 12,
   "metadata": {},
   "outputs": [],
   "source": [
    "# 1\n",
    "\n",
    "\n",
    "def f(keys: dict):\n",
    "    values = dict()\n",
    "    for key in keys:\n",
    "        if key in values:\n",
    "            values[key] += 1\n",
    "        else:\n",
    "            values[key] = 0\n",
    "        print(values[key], end=' ')\n",
    "\n",
    "\n",
    "keys = input().split()\n",
    "f(keys)\n",
    "\n"
   ]
  },
  {
   "cell_type": "code",
   "execution_count": 5,
   "metadata": {},
   "outputs": [
    {
     "name": "stdout",
     "output_type": "stream",
     "text": [
      "banana\n"
     ]
    }
   ],
   "source": [
    "# 4\n",
    "def f(n: int):\n",
    "    d=dict()\n",
    "    for i in range(n):\n",
    "        l=input().split()\n",
    "        for j in l:\n",
    "            d[j]=d.get(j,0)+1\n",
    "    maX=max(d.values())\n",
    "    s=set()\n",
    "    for i in d:\n",
    "        if(d[i]==maX):\n",
    "            s.add(i)\n",
    "    s=sorted(s)\n",
    "    print(s[0])\n",
    "\n",
    "\n",
    "\n",
    "n = int(input())\n",
    "f(n)\n"
   ]
  },
  {
   "cell_type": "code",
   "execution_count": 5,
   "metadata": {},
   "outputs": [
    {
     "name": "stdout",
     "output_type": "stream",
     "text": [
      "OK\n",
      "Access denied\n",
      "Access denied\n",
      "OK\n",
      "OK\n"
     ]
    }
   ],
   "source": [
    "# 5\n",
    "def func():\n",
    "    f = {\"read\": \"R\", \"write\": \"W\", \"execute\": \"X\"}\n",
    "    d = {}\n",
    "    n = int(input())\n",
    "    for i in range(n):\n",
    "        fname, *do = input().split()\n",
    "        d[fname] = set(do)\n",
    "    m = int(input())\n",
    "    for i in range(m):\n",
    "        do, fname, = input().split()\n",
    "        if f[do] in d[fname]:\n",
    "            print(\"OK\")\n",
    "        else:\n",
    "            print(\"Access denied\")\n",
    "\n",
    "\n",
    "func()\n"
   ]
  },
  {
   "cell_type": "code",
   "execution_count": 53,
   "metadata": {},
   "outputs": [
    {
     "name": "stdout",
     "output_type": "stream",
     "text": [
      "hi\n",
      "as\n",
      "sa\n"
     ]
    }
   ],
   "source": [
    "# 6\n",
    "\n",
    "def func():\n",
    "    n = int(input())\n",
    "    d = {}\n",
    "    for i in range(n):\n",
    "        for j in input().split():\n",
    "            d[j] = d.get(j, 0)+1\n",
    "    l = []\n",
    "    for i in d:\n",
    "        l.append((d[i], i))\n",
    "    #l.sort(key=lambda x: (-x[0], x[1]))\n",
    "    for i in sorted(d.items(), key=lambda x: (-x[1], x[0])):\n",
    "        print(i[0])\n",
    "func()"
   ]
  },
  {
   "cell_type": "code",
   "execution_count": 10,
   "metadata": {},
   "outputs": [
    {
     "name": "stdout",
     "output_type": "stream",
     "text": [
      "['omsk', 'kazan']\n"
     ]
    }
   ],
   "source": [
    "# 7\n",
    "def func():\n",
    "    d={}\n",
    "    for i in range(int(input())):\n",
    "        country,*cities=input().split()\n",
    "        for city in cities:\n",
    "            d[city]=country\n",
    "    for i in range(int(input())):\n",
    "        city=input()\n",
    "        print(d.get(city))\n",
    "func()"
   ]
  },
  {
   "cell_type": "code",
   "execution_count": 1,
   "metadata": {},
   "outputs": [
    {
     "name": "stdout",
     "output_type": "stream",
     "text": [
      "0\n"
     ]
    }
   ],
   "source": [
    "# 8\n",
    "from collections import defaultdict\n",
    "\n",
    "\n",
    "def func():\n",
    "    d = defaultdict(list)\n",
    "    for i in range(int(input())):\n",
    "        lat = [str(j) for j in input().replace(',', '').split()]\n",
    "        eng = lat[0]\n",
    "        lat.remove('-')\n",
    "        for word in lat[1:]:\n",
    "            d[word].append(eng)\n",
    "    print(len(d))\n",
    "    for i in sorted(d.keys()):\n",
    "        print(i, '-', ', '.join(d[i]))\n",
    "\n",
    "\n",
    "func()\n"
   ]
  },
  {
   "cell_type": "code",
   "execution_count": 5,
   "metadata": {},
   "outputs": [
    {
     "name": "stdout",
     "output_type": "stream",
     "text": [
      "['asd '] ['asd']\n"
     ]
    }
   ],
   "source": [
    "# 9\n",
    "def func() -> int:\n",
    "    d = {}\n",
    "    n = int(input())\n",
    "\n",
    "    for i in range(n):\n",
    "        word = input()\n",
    "        bf = word.lower()\n",
    "        if bf not in d:\n",
    "            d[bf] = set()\n",
    "        d[bf].add(word)\n",
    "    err = 0\n",
    "    t = input().split()\n",
    "    for word in t:\n",
    "        bf = word.lower()\n",
    "        if (bf in d and word not in d[bf] or len([l for l in word if l.isupper()]) != 1):\n",
    "            err += 1\n",
    "\n",
    "    return err\n",
    "\n",
    "\n",
    "print(func())\n"
   ]
  },
  {
   "cell_type": "code",
   "execution_count": null,
   "metadata": {},
   "outputs": [],
   "source": [
    "# 10\n",
    "\n",
    "sales_dict = {}\n",
    "\n",
    "\n",
    "def inputs():\n",
    "    while True:\n",
    "        try:\n",
    "            yield input().split()\n",
    "        except (ValueError, EOFError):\n",
    "            return\n",
    "\n",
    "\n",
    "for customer, purchase, count in inputs():\n",
    "    if customer not in sales_dict:\n",
    "        sales_dict[customer] = {purchase: int(count)}\n",
    "    else:\n",
    "        sales_dict[customer][purchase] = sales_dict[customer].get(\n",
    "            purchase, 0) + int(count)\n",
    "\n",
    "for customer, purchases in sorted(sales_dict.items()):\n",
    "    print(customer + ':')\n",
    "    for purchase, count in sorted(sales_dict[customer].items()):\n",
    "        print(purchase, count)\n"
   ]
  }
 ],
 "metadata": {
  "kernelspec": {
   "display_name": "Python 3.10.7 64-bit",
   "language": "python",
   "name": "python3"
  },
  "language_info": {
   "codemirror_mode": {
    "name": "ipython",
    "version": 3
   },
   "file_extension": ".py",
   "mimetype": "text/x-python",
   "name": "python",
   "nbconvert_exporter": "python",
   "pygments_lexer": "ipython3",
   "version": "3.10.7"
  },
  "orig_nbformat": 4,
  "vscode": {
   "interpreter": {
    "hash": "87fa829485d475267f3e6278171c7267e46e15927450fa4eed8e02cd2004c4dd"
   }
  }
 },
 "nbformat": 4,
 "nbformat_minor": 2
}

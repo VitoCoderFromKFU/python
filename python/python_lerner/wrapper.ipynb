{
 "cells": [
  {
   "cell_type": "code",
   "execution_count": 1,
   "metadata": {},
   "outputs": [
    {
     "name": "stdout",
     "output_type": "stream",
     "text": [
      "runtime = 0.5138461589813232\n",
      "func name = func\n",
      "args with values =  ('Hello,', \"i'm args\") types: [<class 'str'>, <class 'str'>]\n",
      "args with default values = dict_keys(['s1', 's2']) None\n",
      "func return:  (('Hello,', \"i'm args\"), 'kwarg1', 'kwarg2')\n"
     ]
    }
   ],
   "source": [
    "import time\n",
    "def test(func):\n",
    "    def wrapper(*args, **kwargs):\n",
    "        s=time.time()\n",
    "        func(*args,**kwargs)\n",
    "        e=time.time()\n",
    "        print(\"runtime =\",e-s)\n",
    "        print(\"func name =\",func.__name__)\n",
    "        print(\"args with values = \",args,\"types:\",[type(i) for i in args])\n",
    "        print(\"args with default values =\",kwargs.keys(),func.__defaults__)\n",
    "        print(\"func return: \",repr(func(*args,**kwargs)))\n",
    "    return wrapper\n",
    "\n",
    "\n",
    "@test\n",
    "def func(*s,s1:str=\"i'm empty s1\",s2:str=\"i'm empty s2\"):\n",
    "    time.sleep(0.5)\n",
    "    return s,s1,s2\n",
    "\n",
    "\n",
    "func(\"Hello,\", \"i'm args\",s1=\"kwarg1\",s2=\"kwarg2\")\n"
   ]
  }
 ],
 "metadata": {
  "kernelspec": {
   "display_name": "Python 3.10.9 64-bit (microsoft store)",
   "language": "python",
   "name": "python3"
  },
  "language_info": {
   "codemirror_mode": {
    "name": "ipython",
    "version": 3
   },
   "file_extension": ".py",
   "mimetype": "text/x-python",
   "name": "python",
   "nbconvert_exporter": "python",
   "pygments_lexer": "ipython3",
   "version": "3.10.9"
  },
  "orig_nbformat": 4,
  "vscode": {
   "interpreter": {
    "hash": "2b28ccd513717df92daf039d5eb5a3ad97a80efb70eeedf09f8de44284accb5d"
   }
  }
 },
 "nbformat": 4,
 "nbformat_minor": 2
}

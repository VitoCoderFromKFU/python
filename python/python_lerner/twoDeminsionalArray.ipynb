{
 "cells": [
  {
   "cell_type": "code",
   "execution_count": 1,
   "metadata": {},
   "outputs": [
    {
     "name": "stdout",
     "output_type": "stream",
     "text": [
      "* . . . . * . . . *\n",
      ". * . . . * . . * .\n",
      ". . * . . * . * . .\n",
      ". . . * . * * . . .\n",
      ". . . . * * . . . .\n",
      "* * * * * * * * * *\n",
      ". . . * . * * . . .\n",
      ". . * . . * . * . .\n",
      ". * . . . * . . * .\n",
      "* . . . . * . . . *\n"
     ]
    }
   ],
   "source": [
    "# снежинка\n",
    "def func(n: int):\n",
    "    l = [[\".\"]*n for i in range(n)]\n",
    "    for i in range(n):\n",
    "        l[i][i] = \"*\"\n",
    "        l[n//2][i] = \"*\"\n",
    "        l[i][n//2] = \"*\"\n",
    "        l[i][n-i-1] = \"*\"\n",
    "    for i in l:\n",
    "        print(\" \".join(i))\n",
    "\n",
    "\n",
    "n = int(input())\n",
    "func(n)\n"
   ]
  }
 ],
 "metadata": {
  "kernelspec": {
   "display_name": "Python 3.10.7 64-bit",
   "language": "python",
   "name": "python3"
  },
  "language_info": {
   "codemirror_mode": {
    "name": "ipython",
    "version": 3
   },
   "file_extension": ".py",
   "mimetype": "text/x-python",
   "name": "python",
   "nbconvert_exporter": "python",
   "pygments_lexer": "ipython3",
   "version": "3.10.7"
  },
  "orig_nbformat": 4,
  "vscode": {
   "interpreter": {
    "hash": "87fa829485d475267f3e6278171c7267e46e15927450fa4eed8e02cd2004c4dd"
   }
  }
 },
 "nbformat": 4,
 "nbformat_minor": 2
}

{
 "cells": [
  {
   "cell_type": "markdown",
   "metadata": {},
   "source": [
    "Написать \"бота\", который отвечает на введенный возраст"
   ]
  },
  {
   "cell_type": "code",
   "execution_count": 73,
   "metadata": {},
   "outputs": [
    {
     "name": "stdout",
     "output_type": "stream",
     "text": [
      "Ну что ж, либо ты обновил книгу рекордов Гиннесса, либо ты хочешь меня обмануть\n"
     ]
    }
   ],
   "source": [
    "def letVsGoda(n: int):\n",
    "\n",
    "    lastDigital = n % 10\n",
    "    if (10 < n < 20):\n",
    "        return \"лет\"\n",
    "    elif (lastDigital == 1):\n",
    "        return \"год\"\n",
    "    elif (1 < lastDigital < 5):\n",
    "        return \"года\"\n",
    "    else:\n",
    "        return \"лет\"\n",
    "\n",
    "\n",
    "def func(n: int):\n",
    "    if (n <= 0):\n",
    "        print(\"Не обманывай меня\\n\")\n",
    "    elif (0 < n <= 5):\n",
    "        print(\"А я думал тебе\", n+10, letVsGoda(n+10),\n",
    "              \"\\nНе знал, что люди в таком возрасте умеют писать\")\n",
    "    elif (5 < n <= 15):\n",
    "        print(\"А я думал тебе\", n-2, letVsGoda(n-2))\n",
    "    elif (15 < n <= 25):\n",
    "        print(\"Либо тебе\", n-10, letVsGoda(n-10),\n",
    "              \", либо я не понимаю зачем ты этим занимаешься..\")\n",
    "    elif (25 < n <= 96):\n",
    "        print(\"Я думал тебе\", n-5, letVsGoda(n-5))\n",
    "    elif (96 < n <= 122):\n",
    "        print(\"Поздравляю! Ты прежил Елизавету II, которая скончаласть в возрасте 96\", letVsGoda(96))\n",
    "    else:\n",
    "        print(\"Ну что ж, либо ты обновил книгу рекордов Гиннесса, либо ты хочешь меня обмануть\")\n",
    "\n",
    "\n",
    "n = int(input())\n",
    "func(n)\n"
   ]
  }
 ],
 "metadata": {
  "kernelspec": {
   "display_name": "Python 3.10.7 64-bit",
   "language": "python",
   "name": "python3"
  },
  "language_info": {
   "codemirror_mode": {
    "name": "ipython",
    "version": 3
   },
   "file_extension": ".py",
   "mimetype": "text/x-python",
   "name": "python",
   "nbconvert_exporter": "python",
   "pygments_lexer": "ipython3",
   "version": "3.10.7"
  },
  "orig_nbformat": 4,
  "vscode": {
   "interpreter": {
    "hash": "87fa829485d475267f3e6278171c7267e46e15927450fa4eed8e02cd2004c4dd"
   }
  }
 },
 "nbformat": 4,
 "nbformat_minor": 2
}

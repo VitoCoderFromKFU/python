{
 "cells": [
  {
   "cell_type": "code",
   "execution_count": 2,
   "metadata": {},
   "outputs": [],
   "source": [
    "import pandas as pd\n",
    "import scipy as sp\n",
    "import seaborn as sns\n",
    "import numpy as np\n",
    "import statistics as stats\n",
    "import math"
   ]
  },
  {
   "cell_type": "code",
   "execution_count": 10,
   "metadata": {},
   "outputs": [
    {
     "name": "stdout",
     "output_type": "stream",
     "text": [
      "        X     Y   C         D       E    F      G    H    I\n",
      "0   110.7  59.6 NaN  Задача 1     NaN  NaN    NaN  NaN  NaN\n",
      "1   106.3  68.4 NaN       X0=  108.65  dx=  12.18   r=  3.0\n",
      "2   108.7  72.7 NaN       Y0=   60.15  dy=   4.91   s=  5.0\n",
      "3   118.2  74.8 NaN     alfa=    0.05  NaN    NaN  NaN  NaN\n",
      "4   109.1  79.2 NaN       NaN     NaN  NaN    NaN  NaN  NaN\n",
      "5   100.5  63.6 NaN  Задача 2     NaN  NaN    NaN  NaN  NaN\n",
      "6   105.1  71.7 NaN  Y при X=  114.00  NaN    NaN  NaN  NaN\n",
      "7   124.9  70.9 NaN       NaN     NaN  NaN    NaN  NaN  NaN\n",
      "8   120.5  74.0 NaN  Задача 3     NaN  NaN    NaN  NaN  NaN\n",
      "9   110.6  61.2 NaN     alfa=    0.10  NaN    NaN  NaN  NaN\n",
      "10  118.5  67.7 NaN       NaN     NaN  NaN    NaN  NaN  NaN\n",
      "11  100.9  70.5 NaN       NaN     NaN  NaN    NaN  NaN  NaN\n",
      "12  117.5  73.0 NaN       NaN     NaN  NaN    NaN  NaN  NaN\n",
      "13  102.4  62.8 NaN       NaN     NaN  NaN    NaN  NaN  NaN\n",
      "14  114.5  73.5 NaN       NaN     NaN  NaN    NaN  NaN  NaN\n",
      "15  106.7  66.8 NaN       NaN     NaN  NaN    NaN  NaN  NaN\n",
      "16  112.5  72.1 NaN       NaN     NaN  NaN    NaN  NaN  NaN\n",
      "17  123.7  65.2 NaN       NaN     NaN  NaN    NaN  NaN  NaN\n",
      "18  113.0  62.1 NaN       NaN     NaN  NaN    NaN  NaN  NaN\n",
      "19  118.9  73.0 NaN       NaN     NaN  NaN    NaN  NaN  NaN\n",
      "20  116.2  74.8 NaN       NaN     NaN  NaN    NaN  NaN  NaN\n",
      "21   97.3  80.0 NaN       NaN     NaN  NaN    NaN  NaN  NaN\n",
      "22  126.4  56.1 NaN       NaN     NaN  NaN    NaN  NaN  NaN\n",
      "23  118.4  67.6 NaN       NaN     NaN  NaN    NaN  NaN  NaN\n",
      "24  123.4  57.6 NaN       NaN     NaN  NaN    NaN  NaN  NaN\n",
      "25  110.5  69.9 NaN       NaN     NaN  NaN    NaN  NaN  NaN\n",
      "26  128.9  60.1 NaN       NaN     NaN  NaN    NaN  NaN  NaN\n",
      "27  132.4  55.2 NaN       NaN     NaN  NaN    NaN  NaN  NaN\n",
      "28  125.0  73.5 NaN       NaN     NaN  NaN    NaN  NaN  NaN\n",
      "29  105.7  62.1 NaN       NaN     NaN  NaN    NaN  NaN  NaN\n",
      "30  130.2  59.2 NaN       NaN     NaN  NaN    NaN  NaN  NaN\n",
      "31  121.6  68.6 NaN       NaN     NaN  NaN    NaN  NaN  NaN\n",
      "32  102.5  68.2 NaN       NaN     NaN  NaN    NaN  NaN  NaN\n",
      "33  130.7  64.5 NaN       NaN     NaN  NaN    NaN  NaN  NaN\n",
      "34  126.9  68.2 NaN       NaN     NaN  NaN    NaN  NaN  NaN\n",
      "35  113.5  63.8 NaN       NaN     NaN  NaN    NaN  NaN  NaN\n",
      "36  104.9  63.6 NaN       NaN     NaN  NaN    NaN  NaN  NaN\n",
      "37  122.7  69.7 NaN       NaN     NaN  NaN    NaN  NaN  NaN\n",
      "38  119.8  56.3 NaN       NaN     NaN  NaN    NaN  NaN  NaN\n",
      "39  114.8  73.2 NaN       NaN     NaN  NaN    NaN  NaN  NaN\n",
      "40   97.1  76.3 NaN       NaN     NaN  NaN    NaN  NaN  NaN\n",
      "41  100.4  64.9 NaN       NaN     NaN  NaN    NaN  NaN  NaN\n",
      "42  114.3  71.9 NaN       NaN     NaN  NaN    NaN  NaN  NaN\n",
      "43  105.9  63.9 NaN       NaN     NaN  NaN    NaN  NaN  NaN\n",
      "44  133.3  58.2 NaN       NaN     NaN  NaN    NaN  NaN  NaN\n",
      "45  129.7  58.5 NaN       NaN     NaN  NaN    NaN  NaN  NaN\n",
      "46  123.4  65.4 NaN       NaN     NaN  NaN    NaN  NaN  NaN\n",
      "47  103.7  70.2 NaN       NaN     NaN  NaN    NaN  NaN  NaN\n",
      "48  116.7  59.3 NaN       NaN     NaN  NaN    NaN  NaN  NaN\n",
      "49  131.7  58.7 NaN       NaN     NaN  NaN    NaN  NaN  NaN\n",
      "50  108.6  72.1 NaN       NaN     NaN  NaN    NaN  NaN  NaN\n",
      "51   98.7  78.8 NaN       NaN     NaN  NaN    NaN  NaN  NaN\n",
      "52  121.8  56.7 NaN       NaN     NaN  NaN    NaN  NaN  NaN\n",
      "53  122.1  71.8 NaN       NaN     NaN  NaN    NaN  NaN  NaN\n",
      "54  126.3  62.4 NaN       NaN     NaN  NaN    NaN  NaN  NaN\n",
      "55   98.3  69.6 NaN       NaN     NaN  NaN    NaN  NaN  NaN\n",
      "56  104.0  79.8 NaN       NaN     NaN  NaN    NaN  NaN  NaN\n",
      "57  112.7  63.7 NaN       NaN     NaN  NaN    NaN  NaN  NaN\n",
      "58  133.8  56.8 NaN       NaN     NaN  NaN    NaN  NaN  NaN\n",
      "59  106.1  68.9 NaN       NaN     NaN  NaN    NaN  NaN  NaN\n",
      "60  103.6  65.7 NaN       NaN     NaN  NaN    NaN  NaN  NaN\n",
      "61  125.4  75.1 NaN       NaN     NaN  NaN    NaN  NaN  NaN\n",
      "62  108.5  72.6 NaN       NaN     NaN  NaN    NaN  NaN  NaN\n",
      "63  102.3  73.6 NaN       NaN     NaN  NaN    NaN  NaN  NaN\n",
      "64  115.8  58.8 NaN       NaN     NaN  NaN    NaN  NaN  NaN\n",
      "65  112.9  59.6 NaN       NaN     NaN  NaN    NaN  NaN  NaN\n",
      "66  114.3  66.7 NaN       NaN     NaN  NaN    NaN  NaN  NaN\n",
      "67  105.4  65.7 NaN       NaN     NaN  NaN    NaN  NaN  NaN\n",
      "68  114.7  58.1 NaN       NaN     NaN  NaN    NaN  NaN  NaN\n",
      "69  119.0  59.2 NaN       NaN     NaN  NaN    NaN  NaN  NaN\n",
      "70  115.4  59.9 NaN       NaN     NaN  NaN    NaN  NaN  NaN\n",
      "71  111.5  78.1 NaN       NaN     NaN  NaN    NaN  NaN  NaN\n",
      "72  131.2  66.2 NaN       NaN     NaN  NaN    NaN  NaN  NaN\n",
      "73  122.4  67.9 NaN       NaN     NaN  NaN    NaN  NaN  NaN\n",
      "74  116.5  64.4 NaN       NaN     NaN  NaN    NaN  NaN  NaN\n",
      "75  102.6  71.3 NaN       NaN     NaN  NaN    NaN  NaN  NaN\n",
      "76  100.7  63.2 NaN       NaN     NaN  NaN    NaN  NaN  NaN\n",
      "77  131.9  64.6 NaN       NaN     NaN  NaN    NaN  NaN  NaN\n",
      "78  107.0  72.3 NaN       NaN     NaN  NaN    NaN  NaN  NaN\n",
      "79   97.8  76.5 NaN       NaN     NaN  NaN    NaN  NaN  NaN\n",
      "80  123.4  72.4 NaN       NaN     NaN  NaN    NaN  NaN  NaN\n",
      "81  122.5  61.5 NaN       NaN     NaN  NaN    NaN  NaN  NaN\n",
      "82   98.5  76.6 NaN       NaN     NaN  NaN    NaN  NaN  NaN\n",
      "83  121.1  64.0 NaN       NaN     NaN  NaN    NaN  NaN  NaN\n",
      "84  106.1  64.7 NaN       NaN     NaN  NaN    NaN  NaN  NaN\n"
     ]
    },
    {
     "name": "stderr",
     "output_type": "stream",
     "text": [
      "C:\\Users\\Vitaly\\AppData\\Local\\Packages\\PythonSoftwareFoundation.Python.3.10_qbz5n2kfra8p0\\LocalCache\\local-packages\\Python310\\site-packages\\openpyxl\\styles\\stylesheet.py:226: UserWarning: Workbook contains no default style, apply openpyxl's default\n",
      "  warn(\"Workbook contains no default style, apply openpyxl's default\")\n"
     ]
    }
   ],
   "source": [
    "data = pd.read_excel('ZIV_19.xlsx', sheet_name='Данные')\n",
    "pd.set_option('display.max_rows', None)\n",
    "print(data)"
   ]
  },
  {
   "cell_type": "code",
   "execution_count": 11,
   "metadata": {},
   "outputs": [],
   "source": [
    "x, y = list(data['X']), list(data['Y'])\n",
    "\n",
    "alpha = data.at[9, 'E']"
   ]
  },
  {
   "cell_type": "code",
   "execution_count": 12,
   "metadata": {},
   "outputs": [
    {
     "name": "stdout",
     "output_type": "stream",
     "text": [
      "x среднее 114.51882352941176\n",
      "y среднее 67.07764705882353\n",
      "x дисперсия 103.76199861591697\n",
      "y дисперсия 41.316323875432516\n",
      "x стнд откл 10.18636336559407\n",
      "y станд откл 6.427777522241456\n",
      "Коэфф. корреляции: -0.4439321108292788\n"
     ]
    }
   ],
   "source": [
    "vec = list(zip(x, y))\n",
    "n = len(vec)\n",
    "x_avg = stats.mean(x)\n",
    "y_avg = stats.mean(y)\n",
    "x_pstdev = stats.pstdev(x)\n",
    "y_pstdev = stats.pstdev(y)\n",
    "# print(sum((x[i] - x_avg) * (y[i] - y_avg) for i in range(n)) / (n*x_pstdev*y_pstdev))\n",
    "print('x среднее', x_avg)\n",
    "print('y среднее', y_avg)\n",
    "print('x дисперсия', stats.pvariance(x))\n",
    "print('y дисперсия', stats.pvariance(y))\n",
    "print('x стнд откл', x_pstdev)\n",
    "print('y станд откл', y_pstdev)\n",
    "\n",
    "corr = stats.correlation(x, y)\n",
    "print('Коэфф. корреляции:', corr)"
   ]
  },
  {
   "cell_type": "code",
   "execution_count": 13,
   "metadata": {},
   "outputs": [
    {
     "name": "stdout",
     "output_type": "stream",
     "text": [
      "Преобразование Стьюдента: -4.513550545578564\n"
     ]
    }
   ],
   "source": [
    "t = corr / math.sqrt(1 - corr**2) * math.sqrt(n - 2)\n",
    "print('Преобразование Стьюдента:', t)"
   ]
  },
  {
   "cell_type": "code",
   "execution_count": 15,
   "metadata": {},
   "outputs": [
    {
     "name": "stdout",
     "output_type": "stream",
     "text": [
      "Критическое значение 1.663420174869025\n",
      "p-value 2.084307271088548e-05\n",
      "Нулевая гипотеза отвергается\n"
     ]
    }
   ],
   "source": [
    "# 2 (1 - F(C)) <= alpha\n",
    "# C = F^-1(1 - alpha/2)\n",
    "Ccrit = sp.stats.t.ppf(1 - alpha/2, n-2)\n",
    "print('Критическое значение', Ccrit)\n",
    "pval = 2 * (1 - sp.stats.t.cdf(abs(t), n-2))\n",
    "print('p-value', pval)\n",
    "\n",
    "if pval <= alpha:\n",
    "    print('Нулевая гипотеза отвергается')\n",
    "else:\n",
    "    print('Нулевая гипотеза принимается')"
   ]
  }
 ],
 "metadata": {
  "kernelspec": {
   "display_name": "Python 3",
   "language": "python",
   "name": "python3"
  },
  "language_info": {
   "codemirror_mode": {
    "name": "ipython",
    "version": 3
   },
   "file_extension": ".py",
   "mimetype": "text/x-python",
   "name": "python",
   "nbconvert_exporter": "python",
   "pygments_lexer": "ipython3",
   "version": "3.10.9"
  },
  "vscode": {
   "interpreter": {
    "hash": "2b28ccd513717df92daf039d5eb5a3ad97a80efb70eeedf09f8de44284accb5d"
   }
  }
 },
 "nbformat": 4,
 "nbformat_minor": 2
}

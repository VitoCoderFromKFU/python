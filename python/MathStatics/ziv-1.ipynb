{
 "cells": [
  {
   "cell_type": "code",
   "execution_count": 1,
   "metadata": {},
   "outputs": [],
   "source": [
    "import pandas as pd\n",
    "import scipy as sp\n",
    "import seaborn as sns\n",
    "import numpy as np"
   ]
  },
  {
   "cell_type": "code",
   "execution_count": 2,
   "metadata": {},
   "outputs": [
    {
     "name": "stdout",
     "output_type": "stream",
     "text": [
      "        X     Y   C         D       E    F      G    H    I\n",
      "0   110.7  59.6 NaN  Задача 1     NaN  NaN    NaN  NaN  NaN\n",
      "1   106.3  68.4 NaN       X0=  108.65  dx=  12.18   r=  3.0\n",
      "2   108.7  72.7 NaN       Y0=   60.15  dy=   4.91   s=  5.0\n",
      "3   118.2  74.8 NaN     alfa=    0.05  NaN    NaN  NaN  NaN\n",
      "4   109.1  79.2 NaN       NaN     NaN  NaN    NaN  NaN  NaN\n",
      "5   100.5  63.6 NaN  Задача 2     NaN  NaN    NaN  NaN  NaN\n",
      "6   105.1  71.7 NaN  Y при X=  114.00  NaN    NaN  NaN  NaN\n",
      "7   124.9  70.9 NaN       NaN     NaN  NaN    NaN  NaN  NaN\n",
      "8   120.5  74.0 NaN  Задача 3     NaN  NaN    NaN  NaN  NaN\n",
      "9   110.6  61.2 NaN     alfa=    0.10  NaN    NaN  NaN  NaN\n",
      "10  118.5  67.7 NaN       NaN     NaN  NaN    NaN  NaN  NaN\n",
      "11  100.9  70.5 NaN       NaN     NaN  NaN    NaN  NaN  NaN\n",
      "12  117.5  73.0 NaN       NaN     NaN  NaN    NaN  NaN  NaN\n",
      "13  102.4  62.8 NaN       NaN     NaN  NaN    NaN  NaN  NaN\n",
      "14  114.5  73.5 NaN       NaN     NaN  NaN    NaN  NaN  NaN\n",
      "15  106.7  66.8 NaN       NaN     NaN  NaN    NaN  NaN  NaN\n",
      "16  112.5  72.1 NaN       NaN     NaN  NaN    NaN  NaN  NaN\n",
      "17  123.7  65.2 NaN       NaN     NaN  NaN    NaN  NaN  NaN\n",
      "18  113.0  62.1 NaN       NaN     NaN  NaN    NaN  NaN  NaN\n",
      "19  118.9  73.0 NaN       NaN     NaN  NaN    NaN  NaN  NaN\n",
      "20  116.2  74.8 NaN       NaN     NaN  NaN    NaN  NaN  NaN\n",
      "21   97.3  80.0 NaN       NaN     NaN  NaN    NaN  NaN  NaN\n",
      "22  126.4  56.1 NaN       NaN     NaN  NaN    NaN  NaN  NaN\n",
      "23  118.4  67.6 NaN       NaN     NaN  NaN    NaN  NaN  NaN\n",
      "24  123.4  57.6 NaN       NaN     NaN  NaN    NaN  NaN  NaN\n",
      "25  110.5  69.9 NaN       NaN     NaN  NaN    NaN  NaN  NaN\n",
      "26  128.9  60.1 NaN       NaN     NaN  NaN    NaN  NaN  NaN\n",
      "27  132.4  55.2 NaN       NaN     NaN  NaN    NaN  NaN  NaN\n",
      "28  125.0  73.5 NaN       NaN     NaN  NaN    NaN  NaN  NaN\n",
      "29  105.7  62.1 NaN       NaN     NaN  NaN    NaN  NaN  NaN\n",
      "30  130.2  59.2 NaN       NaN     NaN  NaN    NaN  NaN  NaN\n",
      "31  121.6  68.6 NaN       NaN     NaN  NaN    NaN  NaN  NaN\n",
      "32  102.5  68.2 NaN       NaN     NaN  NaN    NaN  NaN  NaN\n",
      "33  130.7  64.5 NaN       NaN     NaN  NaN    NaN  NaN  NaN\n",
      "34  126.9  68.2 NaN       NaN     NaN  NaN    NaN  NaN  NaN\n",
      "35  113.5  63.8 NaN       NaN     NaN  NaN    NaN  NaN  NaN\n",
      "36  104.9  63.6 NaN       NaN     NaN  NaN    NaN  NaN  NaN\n",
      "37  122.7  69.7 NaN       NaN     NaN  NaN    NaN  NaN  NaN\n",
      "38  119.8  56.3 NaN       NaN     NaN  NaN    NaN  NaN  NaN\n",
      "39  114.8  73.2 NaN       NaN     NaN  NaN    NaN  NaN  NaN\n",
      "40   97.1  76.3 NaN       NaN     NaN  NaN    NaN  NaN  NaN\n",
      "41  100.4  64.9 NaN       NaN     NaN  NaN    NaN  NaN  NaN\n",
      "42  114.3  71.9 NaN       NaN     NaN  NaN    NaN  NaN  NaN\n",
      "43  105.9  63.9 NaN       NaN     NaN  NaN    NaN  NaN  NaN\n",
      "44  133.3  58.2 NaN       NaN     NaN  NaN    NaN  NaN  NaN\n",
      "45  129.7  58.5 NaN       NaN     NaN  NaN    NaN  NaN  NaN\n",
      "46  123.4  65.4 NaN       NaN     NaN  NaN    NaN  NaN  NaN\n",
      "47  103.7  70.2 NaN       NaN     NaN  NaN    NaN  NaN  NaN\n",
      "48  116.7  59.3 NaN       NaN     NaN  NaN    NaN  NaN  NaN\n",
      "49  131.7  58.7 NaN       NaN     NaN  NaN    NaN  NaN  NaN\n",
      "50  108.6  72.1 NaN       NaN     NaN  NaN    NaN  NaN  NaN\n",
      "51   98.7  78.8 NaN       NaN     NaN  NaN    NaN  NaN  NaN\n",
      "52  121.8  56.7 NaN       NaN     NaN  NaN    NaN  NaN  NaN\n",
      "53  122.1  71.8 NaN       NaN     NaN  NaN    NaN  NaN  NaN\n",
      "54  126.3  62.4 NaN       NaN     NaN  NaN    NaN  NaN  NaN\n",
      "55   98.3  69.6 NaN       NaN     NaN  NaN    NaN  NaN  NaN\n",
      "56  104.0  79.8 NaN       NaN     NaN  NaN    NaN  NaN  NaN\n",
      "57  112.7  63.7 NaN       NaN     NaN  NaN    NaN  NaN  NaN\n",
      "58  133.8  56.8 NaN       NaN     NaN  NaN    NaN  NaN  NaN\n",
      "59  106.1  68.9 NaN       NaN     NaN  NaN    NaN  NaN  NaN\n",
      "60  103.6  65.7 NaN       NaN     NaN  NaN    NaN  NaN  NaN\n",
      "61  125.4  75.1 NaN       NaN     NaN  NaN    NaN  NaN  NaN\n",
      "62  108.5  72.6 NaN       NaN     NaN  NaN    NaN  NaN  NaN\n",
      "63  102.3  73.6 NaN       NaN     NaN  NaN    NaN  NaN  NaN\n",
      "64  115.8  58.8 NaN       NaN     NaN  NaN    NaN  NaN  NaN\n",
      "65  112.9  59.6 NaN       NaN     NaN  NaN    NaN  NaN  NaN\n",
      "66  114.3  66.7 NaN       NaN     NaN  NaN    NaN  NaN  NaN\n",
      "67  105.4  65.7 NaN       NaN     NaN  NaN    NaN  NaN  NaN\n",
      "68  114.7  58.1 NaN       NaN     NaN  NaN    NaN  NaN  NaN\n",
      "69  119.0  59.2 NaN       NaN     NaN  NaN    NaN  NaN  NaN\n",
      "70  115.4  59.9 NaN       NaN     NaN  NaN    NaN  NaN  NaN\n",
      "71  111.5  78.1 NaN       NaN     NaN  NaN    NaN  NaN  NaN\n",
      "72  131.2  66.2 NaN       NaN     NaN  NaN    NaN  NaN  NaN\n",
      "73  122.4  67.9 NaN       NaN     NaN  NaN    NaN  NaN  NaN\n",
      "74  116.5  64.4 NaN       NaN     NaN  NaN    NaN  NaN  NaN\n",
      "75  102.6  71.3 NaN       NaN     NaN  NaN    NaN  NaN  NaN\n",
      "76  100.7  63.2 NaN       NaN     NaN  NaN    NaN  NaN  NaN\n",
      "77  131.9  64.6 NaN       NaN     NaN  NaN    NaN  NaN  NaN\n",
      "78  107.0  72.3 NaN       NaN     NaN  NaN    NaN  NaN  NaN\n",
      "79   97.8  76.5 NaN       NaN     NaN  NaN    NaN  NaN  NaN\n",
      "80  123.4  72.4 NaN       NaN     NaN  NaN    NaN  NaN  NaN\n",
      "81  122.5  61.5 NaN       NaN     NaN  NaN    NaN  NaN  NaN\n",
      "82   98.5  76.6 NaN       NaN     NaN  NaN    NaN  NaN  NaN\n",
      "83  121.1  64.0 NaN       NaN     NaN  NaN    NaN  NaN  NaN\n",
      "84  106.1  64.7 NaN       NaN     NaN  NaN    NaN  NaN  NaN\n"
     ]
    },
    {
     "name": "stderr",
     "output_type": "stream",
     "text": [
      "C:\\Users\\Vitaly\\AppData\\Local\\Packages\\PythonSoftwareFoundation.Python.3.10_qbz5n2kfra8p0\\LocalCache\\local-packages\\Python310\\site-packages\\openpyxl\\styles\\stylesheet.py:226: UserWarning: Workbook contains no default style, apply openpyxl's default\n",
      "  warn(\"Workbook contains no default style, apply openpyxl's default\")\n"
     ]
    }
   ],
   "source": [
    "data = pd.read_excel('ZIV_19.xlsx', sheet_name='Данные')\n",
    "pd.set_option('display.max_rows', None)\n",
    "print(data)"
   ]
  },
  {
   "cell_type": "code",
   "execution_count": 3,
   "metadata": {},
   "outputs": [],
   "source": [
    "x, y = list(data['X']), list(data['Y'])\n",
    "\n",
    "x0 = data.at[1, 'E']\n",
    "dx = data.at[1, 'G']\n",
    "r = int(data.at[1, 'I'])\n",
    "\n",
    "y0 = data.at[2, 'E']\n",
    "dy = data.at[2, 'G']\n",
    "s = int(data.at[2, 'I'])\n",
    "\n",
    "alpha = data.at[3, 'E']\n",
    "\n",
    "n = len(data)"
   ]
  },
  {
   "cell_type": "code",
   "execution_count": 4,
   "metadata": {},
   "outputs": [],
   "source": [
    "interval1 = [x0 + i*dx for i in range(r-1)] + [float('inf')]\n",
    "interval2 = [y0 + i*dy for i in range(s-1)] + [float('inf')]"
   ]
  },
  {
   "cell_type": "code",
   "execution_count": 5,
   "metadata": {},
   "outputs": [
    {
     "name": "stdout",
     "output_type": "stream",
     "text": [
      "[[ 0  8 10]\n",
      " [ 8  5  5]\n",
      " [ 7  4  7]\n",
      " [ 8 10  4]\n",
      " [ 6  2  1]]\n",
      "                      < 60.15  < 65.06  < 69.97  < 74.88  < inf\n",
      "< inf                      10        5        7        4      1\n",
      "< 120.82999999999998        8        5        4       10      2\n",
      "< 108.64999999999999        0        8        7        8      6\n"
     ]
    }
   ],
   "source": [
    "data_vec = list(zip(x, y))\n",
    "freq = [[\n",
    "            len([1\n",
    "            for vec in data_vec\n",
    "            if (0 < i <= r and interval1[i-1] < vec[0] < interval1[i] or i == 0 and vec[0] < interval1[0])\n",
    "            and (0 < j <= s and interval2[j-1] < vec[1] < interval2[j] or j == 0 and vec[1] < interval2[0])\n",
    "        ])\n",
    "        for i in range(r)\n",
    "    ]\n",
    "    for j in range(s)\n",
    "]\n",
    "# freq.reverse()\n",
    "print(np.array(freq))\n",
    "freq_df = pd.DataFrame(freq)\n",
    "freq_df.columns = ['< ' + str(i1) for i1 in interval1]\n",
    "freq_df.index = ['< ' + str(i2) for i2 in interval2]\n",
    "print(freq_df.transpose().iloc[::-1])\n"
   ]
  },
  {
   "cell_type": "code",
   "execution_count": 7,
   "metadata": {},
   "outputs": [
    {
     "name": "stdout",
     "output_type": "stream",
     "text": [
      "Суммы для каждого интервала eta [18, 18, 18, 22, 9]\n",
      "Суммы для каждого интервала xi [29, 29, 27]\n",
      "Всего 85\n"
     ]
    }
   ],
   "source": [
    "etasums = [sum(freq[i]) for i in range(s)]\n",
    "freq_t = list(zip(*freq))\n",
    "xisums = [sum(freq_t[i]) for i in range(r)]\n",
    "print('Суммы для каждого интервала eta', etasums)\n",
    "print('Суммы для каждого интервала xi', xisums)\n",
    "overallsums = sum(etasums)\n",
    "print('Всего', overallsums)"
   ]
  },
  {
   "cell_type": "code",
   "execution_count": 8,
   "metadata": {},
   "outputs": [
    {
     "name": "stdout",
     "output_type": "stream",
     "text": [
      "Статистика: 18.445889288801165\n"
     ]
    }
   ],
   "source": [
    "# Статистика Xi2\n",
    "chi2 = sum(sum(\n",
    "        (n*freq_df.iat[k, j] - xisums[j]*etasums[k])**2 / (xisums[j]*etasums[k])\n",
    "        for k in range(s))\n",
    "    for j in range(r)) / n\n",
    "print('Статистика:', chi2)"
   ]
  },
  {
   "cell_type": "code",
   "execution_count": 9,
   "metadata": {},
   "outputs": [
    {
     "name": "stdout",
     "output_type": "stream",
     "text": [
      "C критическая: 15.507313055865453\n",
      "p-value 0.018121059043094467\n",
      "Степени свободы: 8\n",
      "Нулевая гипотеза отвергается\n"
     ]
    }
   ],
   "source": [
    "# Проверка гипотез\n",
    "Ccrit = sp.stats.chi2.ppf(1-alpha, (r-1)*(s-1))\n",
    "print('C критическая:', Ccrit)\n",
    "pval = 1 - sp.stats.chi2.cdf(chi2, (r-1)*(s-1))\n",
    "print('p-value', pval)\n",
    "print('Степени свободы:', (r-1) * (s-1))\n",
    "\n",
    "assert (chi2 >= Ccrit) == (pval <= alpha)\n",
    "if chi2 >= Ccrit:\n",
    "    print('Нулевая гипотеза отвергается')\n",
    "else:\n",
    "    print('Нулевая гипотеза принимается')"
   ]
  }
 ],
 "metadata": {
  "kernelspec": {
   "display_name": "Python 3",
   "language": "python",
   "name": "python3"
  },
  "language_info": {
   "codemirror_mode": {
    "name": "ipython",
    "version": 3
   },
   "file_extension": ".py",
   "mimetype": "text/x-python",
   "name": "python",
   "nbconvert_exporter": "python",
   "pygments_lexer": "ipython3",
   "version": "3.10.9"
  },
  "vscode": {
   "interpreter": {
    "hash": "2b28ccd513717df92daf039d5eb5a3ad97a80efb70eeedf09f8de44284accb5d"
   }
  }
 },
 "nbformat": 4,
 "nbformat_minor": 2
}

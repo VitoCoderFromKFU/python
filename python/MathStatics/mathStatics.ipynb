{
 "cells": [
  {
   "attachments": {},
   "cell_type": "markdown",
   "metadata": {},
   "source": [
    "# ZII_18"
   ]
  },
  {
   "attachments": {},
   "cell_type": "markdown",
   "metadata": {},
   "source": [
    "Выборочное среднее\n",
    "$$\n",
    "\\bar{X}=\\frac{1}{n}\\sum_{i=1}^{n}X_i\n",
    "$$"
   ]
  },
  {
   "cell_type": "code",
   "execution_count": 4,
   "metadata": {},
   "outputs": [],
   "source": [
    "\n",
    "\n",
    "def sampleMean(x:list):#Выборочное среднее\n",
    "    sum=0\n",
    "    for i in range(len(x)):\n",
    "        sum+=x[i]\n",
    "    print(\"Выборочное среднее =\", sum/len(x))\n",
    "    return sum/len(x)\n"
   ]
  },
  {
   "attachments": {},
   "cell_type": "markdown",
   "metadata": {},
   "source": [
    "Выборочная дисперсия"
   ]
  },
  {
   "cell_type": "code",
   "execution_count": 13,
   "metadata": {},
   "outputs": [
    {
     "name": "stdout",
     "output_type": "stream",
     "text": [
      "Выборочное среднее = 120.6774193548387\n",
      "Ыборочная дисперсия (несмещенная) = 7.924158485273489\n",
      "120.5\n",
      "120.78571428571429\n",
      "Стандратное отклонение = 2.7998129366183546\n"
     ]
    }
   ],
   "source": [
    "import statistics\n",
    "\n",
    "\n",
    "def sampleVariance(x: list):\n",
    "    print(\"Ыборочная дисперсия (несмещенная) =\", statistics.variance(x))\n",
    "    return statistics.variance(x)\n",
    "\n",
    "\n",
    "x = [113.2, 115.2, 115.3, 115.5, 115.9, 116.2, 117, 117.2, 117.2, 117.8, 118, 118, 118, 118, 118.1, 118.2, 118.2, 118.2, 118.3, 118.5,\n",
    "     118.5, 118.5, 118.5, 118.5, 118.7, 119, 119, 119, 119, 119, 119, 119, 119.2, 119.5, 119.5, 119.8, 120, 120, 120, 120, 120, 120.5,\n",
    "     120.5, 120.5, 120.5, 120.5, 120.5, 120.5, 120.6, 120.6, 120.7, 120.9, 121, 121, 121.2, 121.3, 121.5, 121.5, 121.5, 121.5, 121.8,\n",
    "     122.1, 122.1, 122.2, 122.3, 122.3, 122.3, 122.5, 122.5, 122.5, 122.5, 122.5, 122.5, 122.5, 123, 123, 123, 123.2, 123.3, 123.5,\n",
    "     123.5, 123.8, 124, 124, 124.5, 125, 125, 125.3, 125.8, 126, 126, 127.5, 128.5]\n",
    "\n",
    "sampleMean(x)\n",
    "sampleVariance(x)\n",
    "print(statistics.median(x))\n",
    "print(statistics.median_grouped(x))#?????\n",
    "print(\"Стандратное отклонение =\",statistics.pstdev(x))\n"
   ]
  },
  {
   "cell_type": "code",
   "execution_count": null,
   "metadata": {},
   "outputs": [],
   "source": []
  }
 ],
 "metadata": {
  "kernelspec": {
   "display_name": "Python 3.10.7 64-bit",
   "language": "python",
   "name": "python3"
  },
  "language_info": {
   "codemirror_mode": {
    "name": "ipython",
    "version": 3
   },
   "file_extension": ".py",
   "mimetype": "text/x-python",
   "name": "python",
   "nbconvert_exporter": "python",
   "pygments_lexer": "ipython3",
   "version": "3.10.7"
  },
  "orig_nbformat": 4,
  "vscode": {
   "interpreter": {
    "hash": "87fa829485d475267f3e6278171c7267e46e15927450fa4eed8e02cd2004c4dd"
   }
  }
 },
 "nbformat": 4,
 "nbformat_minor": 2
}

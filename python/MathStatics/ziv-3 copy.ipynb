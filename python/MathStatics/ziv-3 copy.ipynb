{
 "cells": [
  {
   "cell_type": "code",
   "execution_count": 11,
   "metadata": {},
   "outputs": [],
   "source": [
    "import pandas as pd\n",
    "import scipy as sp\n",
    "import seaborn as sns\n",
    "import numpy as np\n",
    "import statistics as stats\n",
    "import math\n",
    "import matplotlib.pyplot as plt"
   ]
  },
  {
   "cell_type": "code",
   "execution_count": 12,
   "metadata": {},
   "outputs": [
    {
     "name": "stdout",
     "output_type": "stream",
     "text": [
      "        X     Y   C         D       E    F     G    H    I\n",
      "0   142.3  57.2 NaN  Задача 1     NaN  NaN   NaN  NaN  NaN\n",
      "1   159.1  68.9 NaN       X0=  147.05  dx=  8.92   r=  3.0\n",
      "2   160.2  54.0 NaN       Y0=   56.95  dy=  7.75   s=  3.0\n",
      "3   160.1  70.7 NaN     alfa=    0.08  NaN   NaN  NaN  NaN\n",
      "4   151.8  52.2 NaN       NaN     NaN  NaN   NaN  NaN  NaN\n",
      "5   158.7  55.5 NaN  Задача 2     NaN  NaN   NaN  NaN  NaN\n",
      "6   158.0  62.4 NaN  X при Y=   55.00  NaN   NaN  NaN  NaN\n",
      "7   149.0  61.2 NaN       NaN     NaN  NaN   NaN  NaN  NaN\n",
      "8   159.3  69.1 NaN  Задача 3     NaN  NaN   NaN  NaN  NaN\n",
      "9   154.4  66.0 NaN     alfa=    0.03  NaN   NaN  NaN  NaN\n",
      "10  141.2  68.2 NaN       NaN     NaN  NaN   NaN  NaN  NaN\n",
      "11  137.3  60.5 NaN       NaN     NaN  NaN   NaN  NaN  NaN\n",
      "12  145.0  51.3 NaN       NaN     NaN  NaN   NaN  NaN  NaN\n",
      "13  156.4  54.4 NaN       NaN     NaN  NaN   NaN  NaN  NaN\n",
      "14  144.2  54.9 NaN       NaN     NaN  NaN   NaN  NaN  NaN\n",
      "15  137.0  55.9 NaN       NaN     NaN  NaN   NaN  NaN  NaN\n",
      "16  156.2  63.3 NaN       NaN     NaN  NaN   NaN  NaN  NaN\n",
      "17  147.6  56.4 NaN       NaN     NaN  NaN   NaN  NaN  NaN\n",
      "18  147.0  67.2 NaN       NaN     NaN  NaN   NaN  NaN  NaN\n",
      "19  157.0  63.8 NaN       NaN     NaN  NaN   NaN  NaN  NaN\n",
      "20  152.5  59.6 NaN       NaN     NaN  NaN   NaN  NaN  NaN\n",
      "21  143.5  60.8 NaN       NaN     NaN  NaN   NaN  NaN  NaN\n",
      "22  143.4  62.7 NaN       NaN     NaN  NaN   NaN  NaN  NaN\n",
      "23  139.7  63.3 NaN       NaN     NaN  NaN   NaN  NaN  NaN\n",
      "24  148.8  66.4 NaN       NaN     NaN  NaN   NaN  NaN  NaN\n",
      "25  144.0  50.7 NaN       NaN     NaN  NaN   NaN  NaN  NaN\n",
      "26  152.9  71.9 NaN       NaN     NaN  NaN   NaN  NaN  NaN\n",
      "27  153.6  53.4 NaN       NaN     NaN  NaN   NaN  NaN  NaN\n",
      "28  153.3  63.3 NaN       NaN     NaN  NaN   NaN  NaN  NaN\n",
      "29  149.1  63.4 NaN       NaN     NaN  NaN   NaN  NaN  NaN\n",
      "30  147.5  51.8 NaN       NaN     NaN  NaN   NaN  NaN  NaN\n",
      "31  156.1  71.2 NaN       NaN     NaN  NaN   NaN  NaN  NaN\n",
      "32  139.4  68.0 NaN       NaN     NaN  NaN   NaN  NaN  NaN\n",
      "33  141.5  62.0 NaN       NaN     NaN  NaN   NaN  NaN  NaN\n",
      "34  161.1  65.9 NaN       NaN     NaN  NaN   NaN  NaN  NaN\n",
      "35  161.1  52.0 NaN       NaN     NaN  NaN   NaN  NaN  NaN\n",
      "36  156.7  67.0 NaN       NaN     NaN  NaN   NaN  NaN  NaN\n",
      "37  155.3  51.6 NaN       NaN     NaN  NaN   NaN  NaN  NaN\n",
      "38  150.3  65.4 NaN       NaN     NaN  NaN   NaN  NaN  NaN\n",
      "39  151.8  54.8 NaN       NaN     NaN  NaN   NaN  NaN  NaN\n",
      "40  139.1  52.3 NaN       NaN     NaN  NaN   NaN  NaN  NaN\n",
      "41  162.5  73.5 NaN       NaN     NaN  NaN   NaN  NaN  NaN\n",
      "42  162.6  66.7 NaN       NaN     NaN  NaN   NaN  NaN  NaN\n",
      "43  139.5  54.8 NaN       NaN     NaN  NaN   NaN  NaN  NaN\n",
      "44  161.7  55.8 NaN       NaN     NaN  NaN   NaN  NaN  NaN\n",
      "45  154.4  68.1 NaN       NaN     NaN  NaN   NaN  NaN  NaN\n",
      "46  146.6  55.4 NaN       NaN     NaN  NaN   NaN  NaN  NaN\n",
      "47  142.8  57.8 NaN       NaN     NaN  NaN   NaN  NaN  NaN\n",
      "48  149.8  69.8 NaN       NaN     NaN  NaN   NaN  NaN  NaN\n",
      "49  152.7  70.5 NaN       NaN     NaN  NaN   NaN  NaN  NaN\n",
      "50  150.3  65.1 NaN       NaN     NaN  NaN   NaN  NaN  NaN\n",
      "51  154.4  54.7 NaN       NaN     NaN  NaN   NaN  NaN  NaN\n",
      "52  161.2  53.9 NaN       NaN     NaN  NaN   NaN  NaN  NaN\n",
      "53  151.4  53.9 NaN       NaN     NaN  NaN   NaN  NaN  NaN\n",
      "54  151.1  53.4 NaN       NaN     NaN  NaN   NaN  NaN  NaN\n",
      "55  160.3  57.1 NaN       NaN     NaN  NaN   NaN  NaN  NaN\n",
      "56  158.1  68.9 NaN       NaN     NaN  NaN   NaN  NaN  NaN\n",
      "57  156.8  59.1 NaN       NaN     NaN  NaN   NaN  NaN  NaN\n",
      "58  145.6  57.4 NaN       NaN     NaN  NaN   NaN  NaN  NaN\n",
      "59  137.9  59.5 NaN       NaN     NaN  NaN   NaN  NaN  NaN\n",
      "60  136.3  50.1 NaN       NaN     NaN  NaN   NaN  NaN  NaN\n",
      "61  141.0  62.7 NaN       NaN     NaN  NaN   NaN  NaN  NaN\n",
      "62  163.2  70.0 NaN       NaN     NaN  NaN   NaN  NaN  NaN\n",
      "63  162.7  63.3 NaN       NaN     NaN  NaN   NaN  NaN  NaN\n",
      "64  146.4  70.9 NaN       NaN     NaN  NaN   NaN  NaN  NaN\n",
      "65  156.8  55.4 NaN       NaN     NaN  NaN   NaN  NaN  NaN\n",
      "66  137.2  57.8 NaN       NaN     NaN  NaN   NaN  NaN  NaN\n",
      "67  155.2  68.6 NaN       NaN     NaN  NaN   NaN  NaN  NaN\n",
      "68  145.1  66.1 NaN       NaN     NaN  NaN   NaN  NaN  NaN\n",
      "69  141.5  68.8 NaN       NaN     NaN  NaN   NaN  NaN  NaN\n",
      "70  147.7  68.1 NaN       NaN     NaN  NaN   NaN  NaN  NaN\n",
      "71  146.6  56.3 NaN       NaN     NaN  NaN   NaN  NaN  NaN\n",
      "72  161.2  65.3 NaN       NaN     NaN  NaN   NaN  NaN  NaN\n",
      "73  153.9  72.1 NaN       NaN     NaN  NaN   NaN  NaN  NaN\n",
      "74  145.6  52.8 NaN       NaN     NaN  NaN   NaN  NaN  NaN\n",
      "75  162.5  63.1 NaN       NaN     NaN  NaN   NaN  NaN  NaN\n",
      "76  144.8  56.9 NaN       NaN     NaN  NaN   NaN  NaN  NaN\n",
      "77  148.2  58.4 NaN       NaN     NaN  NaN   NaN  NaN  NaN\n",
      "78  156.4  67.7 NaN       NaN     NaN  NaN   NaN  NaN  NaN\n",
      "79  149.9  64.1 NaN       NaN     NaN  NaN   NaN  NaN  NaN\n",
      "80  136.6  54.9 NaN       NaN     NaN  NaN   NaN  NaN  NaN\n",
      "81  149.5  64.6 NaN       NaN     NaN  NaN   NaN  NaN  NaN\n",
      "82  162.3  70.0 NaN       NaN     NaN  NaN   NaN  NaN  NaN\n",
      "83  148.4  54.9 NaN       NaN     NaN  NaN   NaN  NaN  NaN\n",
      "84  158.0  61.2 NaN       NaN     NaN  NaN   NaN  NaN  NaN\n"
     ]
    },
    {
     "name": "stderr",
     "output_type": "stream",
     "text": [
      "C:\\Users\\Vitaly\\AppData\\Local\\Packages\\PythonSoftwareFoundation.Python.3.10_qbz5n2kfra8p0\\LocalCache\\local-packages\\Python310\\site-packages\\openpyxl\\styles\\stylesheet.py:226: UserWarning: Workbook contains no default style, apply openpyxl's default\n",
      "  warn(\"Workbook contains no default style, apply openpyxl's default\")\n"
     ]
    }
   ],
   "source": [
    "data = pd.read_excel('ZIV_12.xlsx', sheet_name='Данные')\n",
    "pd.set_option('display.max_rows', None)\n",
    "print(data)"
   ]
  },
  {
   "cell_type": "code",
   "execution_count": 13,
   "metadata": {},
   "outputs": [],
   "source": [
    "x, y = list(data['X']), list(data['Y'])\n",
    "y4fc = data.at[6, 'E']"
   ]
  },
  {
   "cell_type": "code",
   "execution_count": 14,
   "metadata": {},
   "outputs": [],
   "source": [
    "vec = list(zip(x, y))\n",
    "n = len(vec)"
   ]
  },
  {
   "cell_type": "code",
   "execution_count": 15,
   "metadata": {},
   "outputs": [
    {
     "name": "stdout",
     "output_type": "stream",
     "text": [
      "x среднее: 150.81411764705882\n",
      "y среднее: 61.29529411764706\n",
      "x стандартное отклонение: 7.689552162300961\n",
      "y стандартное отклонение: 6.438028669460002\n",
      "Коэффицциент корреляции R: 0.2759180777318188\n",
      "Оценка стандартной ошибки прогноза: 7.39105263540785\n"
     ]
    }
   ],
   "source": [
    "x_avg = stats.mean(x)\n",
    "y_avg = stats.mean(y)\n",
    "x_stdev = stats.pstdev(x)\n",
    "y_stdev = stats.pstdev(y)\n",
    "print('x среднее:',x_avg)\n",
    "print('y среднее:', y_avg)\n",
    "print('x стандартное отклонение:', x_stdev)\n",
    "print('y стандартное отклонение:', y_stdev)\n",
    "\n",
    "corr = stats.correlation(y, x)\n",
    "print('Коэффицциент корреляции R:', corr)\n",
    "# eq1 = [(x, y_avg + corr * y_stdev/x_stdev * (x - x_avg) + y_stdev / x_stdev * math.sqrt(1 - corr**2) * math.sqrt(4*x_stdev**2 - (x - x_avg)**2)) for x in np.arange(x_avg - 2*x_stdev+0.0001, x_avg + 2*x_stdev-0.0001, 0.0001)]\n",
    "# eq2 = [(x, y_avg + corr * y_stdev/x_stdev * (x - x_avg) - y_stdev / x_stdev * math.sqrt(1 - corr**2) * math.sqrt(4*x_stdev**2 - (x - x_avg)**2)) for x in np.arange(x_avg - 2*x_stdev+0.0001, x_avg + 2*x_stdev-0.0001, 0.0001)]\n",
    "eq1 = [(y, x_avg + corr * x_stdev/y_stdev * (y - y_avg) + x_stdev / y_stdev * math.sqrt(1 - corr**2) * math.sqrt(4*y_stdev**2 - (y - y_avg)**2)) for y in np.arange(y_avg - 2*y_stdev+0.0001, y_avg + 2*y_stdev-0.0001, 0.0001)]\n",
    "eq2 = [(y, x_avg + corr * x_stdev/y_stdev * (y - y_avg) - x_stdev / y_stdev * math.sqrt(1 - corr**2) * math.sqrt(4*y_stdev**2 - (y - y_avg)**2)) for y in np.arange(y_avg - 2*y_stdev+0.0001, y_avg + 2*y_stdev-0.0001, 0.0001)]\n",
    "stderr = math.sqrt(x_stdev**2 * (1 - corr**2))\n",
    "print('Оценка стандартной ошибки прогноза:', stderr) "
   ]
  },
  {
   "cell_type": "code",
   "execution_count": 6,
   "metadata": {},
   "outputs": [
    {
     "name": "stdout",
     "output_type": "stream",
     "text": [
      "Уравнение регрессии ξ на η: x = 0.32955529715256626y + 130.6139287800637\n",
      "Коэффициент линейной регрессии β = 0.32955529715256626\n"
     ]
    }
   ],
   "source": [
    "a = corr * x_stdev / y_stdev\n",
    "b = x_avg - a * y_avg\n",
    "print('Уравнение регрессии ξ на η: x = ', a, 'y + ', b, sep='')\n",
    "print('Коэффициент линейной регрессии β =', a)"
   ]
  },
  {
   "cell_type": "code",
   "execution_count": 7,
   "metadata": {},
   "outputs": [
    {
     "name": "stdout",
     "output_type": "stream",
     "text": [
      "Прогноз при y = 55.0: x = 148.73947012345485\n"
     ]
    }
   ],
   "source": [
    "xexpected = a * y4fc + b\n",
    "print('Прогноз при y = ', y4fc, ': x = ', xexpected, sep='')"
   ]
  },
  {
   "cell_type": "code",
   "execution_count": 8,
   "metadata": {},
   "outputs": [],
   "source": [
    "x0 = data.at[1, 'E']\n",
    "y0 = data.at[2, 'E']\n",
    "dx = data.at[1, 'G']\n",
    "dy = data.at[2, 'G']\n",
    "r = int(data.at[1, 'I'])\n",
    "s = int(data.at[2, 'I'])\n",
    "\n",
    "interval1 = [x0 + i*dx for i in range(r-1)]\n",
    "interval2 = [y0 + i*dy for i in range(s-1)]\n",
    "\n",
    "xmin = min([y for x, y in eq2 + eq1]) - 5\n",
    "xmax = max([y for x, y in eq2 + eq1]) + 5\n",
    "ymin = min([x for x, y in eq2 + eq1]) - 5\n",
    "ymax = max([x for x, y in eq2 + eq1]) + 5"
   ]
  },
  {
   "cell_type": "code",
   "execution_count": 10,
   "metadata": {},
   "outputs": [
    {
     "data": {
      "text/plain": [
       "(130.4350133224777, 171.19322197165914, 43.41933677872706, 79.17123677958193)"
      ]
     },
     "execution_count": 10,
     "metadata": {},
     "output_type": "execute_result"
    },
    {
     "data": {
      "image/png": "[encoded data removed]",
      "text/plain": [
       "<Figure size 640x480 with 1 Axes>"
      ]
     },
     "metadata": {},
     "output_type": "display_data"
    }
   ],
   "source": [
    "# plt.style.use('seaborn-whitegrid')\n",
    "sns.set_style('whitegrid')\n",
    "plt.title('Поле данных, линия регрессии ξ на η')\n",
    "# ellipsis\n",
    "plt.plot([e1[1] for e1 in eq1], [e1[0] for e1 in eq1], 'g-')\n",
    "plt.plot([e2[1] for e2 in eq2], [e2[0] for e2 in eq2], 'g-')\n",
    "# dots\n",
    "plt.plot(x, y, 'k.')\n",
    "# regression line\n",
    "plt.plot([a * y + b for y in np.arange(int(min([x for x, y in eq2 + eq1])) - 2, int(max([x for x, y in eq1 + eq2]) + 2))], np.arange(int(min([x for x, y in eq2 + eq1])) - 2, int(max([x for x, y in eq1 + eq2]) + 2)), 'r-')\n",
    "# ticks\n",
    "plt.yticks(interval2)\n",
    "plt.xticks(interval1)\n",
    "# forecast line\n",
    "plt.plot([xexpected] * np.arange(ymin, y4fc, 0.001).size, np.arange(ymin, y4fc, 0.001), 'b--')\n",
    "plt.plot(np.arange(ymin, xexpected, 0.001), [y4fc] * np.arange(ymin, xexpected, 0.001).size, 'b--')\n",
    "# center square\n",
    "plt.scatter([x_avg], [y_avg], color='red', marker='s')\n",
    "# axes limit\n",
    "plt.axis(xmin=xmin, xmax=xmax, ymin=ymin, ymax=ymax)"
   ]
  }
 ],
 "metadata": {
  "kernelspec": {
   "display_name": "Python 3",
   "language": "python",
   "name": "python3"
  },
  "language_info": {
   "codemirror_mode": {
    "name": "ipython",
    "version": 3
   },
   "file_extension": ".py",
   "mimetype": "text/x-python",
   "name": "python",
   "nbconvert_exporter": "python",
   "pygments_lexer": "ipython3",
   "version": "3.10.9"
  },
  "vscode": {
   "interpreter": {
    "hash": "2b28ccd513717df92daf039d5eb5a3ad97a80efb70eeedf09f8de44284accb5d"
   }
  }
 },
 "nbformat": 4,
 "nbformat_minor": 2
}

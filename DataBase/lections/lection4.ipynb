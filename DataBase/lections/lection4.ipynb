{
 "cells": [
  {
   "cell_type": "markdown",
   "metadata": {},
   "source": [
    "ограничения, след неделя - здание, создание своих БД\n",
    "## КР по ALTER"
   ]
  },
  {
   "cell_type": "code",
   "execution_count": null,
   "metadata": {
    "vscode": {
     "languageId": "sql"
    }
   },
   "outputs": [],
   "source": [
    "CREATE TABLE T1( columns, contsraint)\n",
    "DROP TABLE T1; /*удаление */\n",
    "ALTER TABLE T1\n",
    "    ADD [column] P1 type contsraint\n",
    "    DROP [contsraint] C2\n",
    "    ALTER\n",
    "    REN\n"
   ]
  },
  {
   "cell_type": "code",
   "execution_count": null,
   "metadata": {
    "vscode": {
     "languageId": "sql"
    }
   },
   "outputs": [],
   "source": [
    "CREATE VIEW V1(P1,P2,P3) AS \n",
    "    SELECT staternt"
   ]
  },
  {
   "cell_type": "markdown",
   "metadata": {},
   "source": [
    "Обновляемые\n",
    "требования: \n",
    "* представлние - множество по одной таблице\n",
    "* Все колонки, не входящие в спецификацию select NULLable\n",
    "* select не содержит: подзапросов, distinct, group by,функций, соединений и тд\n",
    "* \n",
    "\n",
    "\n",
    "\n",
    "Необновляемые(только select): view"
   ]
  },
  {
   "cell_type": "code",
   "execution_count": null,
   "metadata": {
    "vscode": {
     "languageId": "sql"
    }
   },
   "outputs": [],
   "source": [
    "CREATE VIEW SNOWLINE (city, state, snowoff);\n",
    "\n",
    "SELECT city,statem ahitive from cities where ahitive > 3000\n",
    "with check option"
   ]
  },
  {
   "cell_type": "markdown",
   "metadata": {},
   "source": [
    "```SQL\n",
    "CREATE INDEX  pk_index ON T1(p1)\n",
    "```\n",
    "Индексы могут быть кластиризированный (создается на primarry key), т.е. в каждом листе индекса хранится запись\n",
    "\n",
    "Некластиризированные индексы T1(p2)\n"
   ]
  },
  {
   "cell_type": "markdown",
   "metadata": {},
   "source": [
    "Рекомендации:\n",
    "* В одном запросе лучше менять больше строк, чем много одиночных запросов с одной строкой\n",
    "СОЗДАТЬ ИНДЕКС НА FOREIGN KEY, КОТОРЫЙ ЧАСТО ИСПОЛЬЗУЕТСЯ "
   ]
  },
  {
   "cell_type": "markdown",
   "metadata": {},
   "source": [
    "Покрывающие индексы (добавляем using)"
   ]
  },
  {
   "cell_type": "markdown",
   "metadata": {},
   "source": [
    "# DML\n",
    "INSERT [INTO] T1 (P1,P2,...,Pk)\n",
    "VALUES(V1,V2,...,VK),(M1,M2,...,MK),.....,()\n",
    "\n",
    "OR \n",
    "SELECT_staterment\n",
    "\n",
    "DELETE FROM T1\n",
    "    WHERE УСЛОВИЕ\n",
    "\n",
    "DELETE T1 FROM T2 T3 WHERE УСЛ\n",
    "\n",
    "UPDATE T1 \n",
    "SET P1=V1, P2=V2\n",
    "WHERE УСЛ\n",
    "\n",
    "UPDATE T1\n",
    "SET P1=V1 \n",
    "FROM T2\n",
    "WHERE УСЛ\n"
   ]
  }
 ],
 "metadata": {
  "kernelspec": {
   "display_name": "Python 3.10.7 64-bit",
   "language": "python",
   "name": "python3"
  },
  "language_info": {
   "name": "python",
   "version": "3.10.7"
  },
  "orig_nbformat": 4,
  "vscode": {
   "interpreter": {
    "hash": "87fa829485d475267f3e6278171c7267e46e15927450fa4eed8e02cd2004c4dd"
   }
  }
 },
 "nbformat": 4,
 "nbformat_minor": 2
}
